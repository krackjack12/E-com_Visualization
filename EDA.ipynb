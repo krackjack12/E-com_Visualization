{
 "cells": [
  {
   "cell_type": "markdown",
   "metadata": {},
   "source": [
    "### Exploratory Data Analysis"
   ]
  },
  {
   "cell_type": "code",
   "execution_count": 2,
   "metadata": {},
   "outputs": [
    {
     "name": "stdout",
     "output_type": "stream",
     "text": [
      "Order_Date             0\n",
      "Time                   0\n",
      "Aging                  1\n",
      "Customer_Id            0\n",
      "Gender                 0\n",
      "Device_Type            0\n",
      "Customer_Login_type    0\n",
      "Product_Category       0\n",
      "Product                0\n",
      "Sales                  1\n",
      "Quantity               2\n",
      "Discount               1\n",
      "Profit                 0\n",
      "Shipping_Cost          1\n",
      "Order_Priority         2\n",
      "Payment_method         0\n",
      "dtype: int64\n"
     ]
    }
   ],
   "source": [
    "import pandas as pd\n",
    "\n",
    "# Load your data into a DataFrame\n",
    "df = pd.read_csv('ecom-data.csv')\n",
    "\n",
    "# Check for missing data\n",
    "missing_data = df.isnull().sum()\n",
    "print(missing_data)"
   ]
  },
  {
   "cell_type": "markdown",
   "metadata": {},
   "source": [
    "#### Checking and filling missing values"
   ]
  },
  {
   "cell_type": "code",
   "execution_count": 3,
   "metadata": {},
   "outputs": [
    {
     "name": "stdout",
     "output_type": "stream",
     "text": [
      "Order_Date             0\n",
      "Time                   0\n",
      "Aging                  0\n",
      "Customer_Id            0\n",
      "Gender                 0\n",
      "Device_Type            0\n",
      "Customer_Login_type    0\n",
      "Product_Category       0\n",
      "Product                0\n",
      "Sales                  0\n",
      "Quantity               0\n",
      "Discount               0\n",
      "Profit                 0\n",
      "Shipping_Cost          0\n",
      "Order_Priority         0\n",
      "Payment_method         0\n",
      "dtype: int64\n"
     ]
    }
   ],
   "source": [
    "# Fill missing values with the mean value for each numerical column\n",
    "numerical_columns = df.select_dtypes(include='number')  # Select numerical columns\n",
    "df[numerical_columns.columns] = numerical_columns.fillna(numerical_columns.mean())\n",
    "\n",
    "# Replace missing values in the \"Order_Priority\" column with \"Medium\"\n",
    "df['Order_Priority'].fillna('Medium', inplace=True)\n",
    "\n",
    "# Check for missing data\n",
    "missing_data = df.isnull().sum()\n",
    "print(missing_data)"
   ]
  },
  {
   "cell_type": "markdown",
   "metadata": {},
   "source": [
    "#### Summary Statistics"
   ]
  },
  {
   "cell_type": "code",
   "execution_count": 4,
   "metadata": {},
   "outputs": [
    {
     "name": "stdout",
     "output_type": "stream",
     "text": [
      "              Aging   Customer_Id         Sales      Quantity      Discount  \\\n",
      "count  51290.000000  51290.000000  51290.000000  51290.000000  51290.000000   \n",
      "mean       5.255035  58155.758764    152.340872      2.502983      0.303821   \n",
      "std        2.959920  26032.215826     66.494771      1.511829      0.131025   \n",
      "min        1.000000  10000.000000     33.000000      1.000000      0.100000   \n",
      "25%        3.000000  35831.250000     85.000000      1.000000      0.200000   \n",
      "50%        5.000000  61018.000000    136.500000      2.000000      0.300000   \n",
      "75%        8.000000  80736.250000    218.000000      4.000000      0.400000   \n",
      "max       10.500000  99999.000000    250.000000      5.000000      0.500000   \n",
      "\n",
      "             Profit  Shipping_Cost  \n",
      "count  51290.000000   51290.000000  \n",
      "mean      70.407226       7.041557  \n",
      "std       48.729488       4.871697  \n",
      "min        0.500000       0.100000  \n",
      "25%       24.900000       2.500000  \n",
      "50%       59.900000       6.000000  \n",
      "75%      118.400000      11.800000  \n",
      "max      167.500000      16.800000  \n"
     ]
    }
   ],
   "source": [
    "summary_stats = df.describe()\n",
    "print(summary_stats)"
   ]
  },
  {
   "cell_type": "markdown",
   "metadata": {},
   "source": [
    "#### Checking outliers"
   ]
  },
  {
   "cell_type": "code",
   "execution_count": 5,
   "metadata": {},
   "outputs": [
    {
     "name": "stdout",
     "output_type": "stream",
     "text": [
      "Empty DataFrame\n",
      "Columns: [Order_Date, Time, Aging, Customer_Id, Gender, Device_Type, Customer_Login_type, Product_Category, Product, Sales, Quantity, Discount, Profit, Shipping_Cost, Order_Priority, Payment_method]\n",
      "Index: []\n"
     ]
    }
   ],
   "source": [
    "from scipy import stats\n",
    "\n",
    "z_scores = stats.zscore(df['Profit'])\n",
    "outliers = df[(z_scores > 3) | (z_scores < -3)]\n",
    "print(outliers)"
   ]
  },
  {
   "cell_type": "markdown",
   "metadata": {},
   "source": [
    "#### Exploring Categorical Variables"
   ]
  },
  {
   "cell_type": "code",
   "execution_count": 6,
   "metadata": {},
   "outputs": [
    {
     "name": "stdout",
     "output_type": "stream",
     "text": [
      "Gender\n",
      "Male      28138\n",
      "Female    23152\n",
      "Name: count, dtype: int64\n"
     ]
    }
   ],
   "source": [
    "gender_distribution = df['Gender'].value_counts()\n",
    "print(gender_distribution)"
   ]
  },
  {
   "cell_type": "code",
   "execution_count": 7,
   "metadata": {},
   "outputs": [
    {
     "name": "stdout",
     "output_type": "stream",
     "text": [
      "Product_Category\n",
      "Fashion               25646\n",
      "Home & Furniture      15438\n",
      "Auto & Accessories     7505\n",
      "Electronic             2701\n",
      "Name: count, dtype: int64\n"
     ]
    }
   ],
   "source": [
    "product_categories = df[\"Product_Category\"].value_counts()\n",
    "print(product_categories)"
   ]
  },
  {
   "cell_type": "code",
   "execution_count": 8,
   "metadata": {},
   "outputs": [
    {
     "name": "stdout",
     "output_type": "stream",
     "text": [
      "Payment_method\n",
      "credit_card    38137\n",
      "money_order     9629\n",
      "e_wallet        2789\n",
      "debit_card       734\n",
      "not_defined        1\n",
      "Name: count, dtype: int64\n"
     ]
    }
   ],
   "source": [
    "payment_methods = df[\"Payment_method\"].value_counts()\n",
    "print(payment_methods)"
   ]
  },
  {
   "cell_type": "code",
   "execution_count": 9,
   "metadata": {},
   "outputs": [
    {
     "name": "stdout",
     "output_type": "stream",
     "text": [
      "Customer_Login_type\n",
      "Member          49097\n",
      "Guest            1993\n",
      "First SignUp      173\n",
      "New                27\n",
      "Name: count, dtype: int64\n"
     ]
    }
   ],
   "source": [
    "login_type = df[\"Customer_Login_type\"].value_counts()\n",
    "print(login_type)"
   ]
  },
  {
   "cell_type": "code",
   "execution_count": 10,
   "metadata": {},
   "outputs": [
    {
     "data": {
      "text/html": [
       "<div>\n",
       "<style scoped>\n",
       "    .dataframe tbody tr th:only-of-type {\n",
       "        vertical-align: middle;\n",
       "    }\n",
       "\n",
       "    .dataframe tbody tr th {\n",
       "        vertical-align: top;\n",
       "    }\n",
       "\n",
       "    .dataframe thead th {\n",
       "        text-align: right;\n",
       "    }\n",
       "</style>\n",
       "<table border=\"1\" class=\"dataframe\">\n",
       "  <thead>\n",
       "    <tr style=\"text-align: right;\">\n",
       "      <th></th>\n",
       "      <th>Product</th>\n",
       "      <th>Sales</th>\n",
       "    </tr>\n",
       "  </thead>\n",
       "  <tbody>\n",
       "    <tr>\n",
       "      <th>0</th>\n",
       "      <td>T - Shirts</td>\n",
       "      <td>578336.0</td>\n",
       "    </tr>\n",
       "    <tr>\n",
       "      <th>1</th>\n",
       "      <td>Titak watch</td>\n",
       "      <td>531468.0</td>\n",
       "    </tr>\n",
       "    <tr>\n",
       "      <th>2</th>\n",
       "      <td>Running Shoes</td>\n",
       "      <td>522144.0</td>\n",
       "    </tr>\n",
       "    <tr>\n",
       "      <th>3</th>\n",
       "      <td>Jeans</td>\n",
       "      <td>508376.0</td>\n",
       "    </tr>\n",
       "    <tr>\n",
       "      <th>4</th>\n",
       "      <td>Formal Shoes</td>\n",
       "      <td>496503.0</td>\n",
       "    </tr>\n",
       "    <tr>\n",
       "      <th>5</th>\n",
       "      <td>Shirts</td>\n",
       "      <td>457072.0</td>\n",
       "    </tr>\n",
       "    <tr>\n",
       "      <th>6</th>\n",
       "      <td>Fossil Watch</td>\n",
       "      <td>370788.0</td>\n",
       "    </tr>\n",
       "    <tr>\n",
       "      <th>7</th>\n",
       "      <td>Towels</td>\n",
       "      <td>351348.0</td>\n",
       "    </tr>\n",
       "    <tr>\n",
       "      <th>8</th>\n",
       "      <td>Sofa Covers</td>\n",
       "      <td>332424.0</td>\n",
       "    </tr>\n",
       "    <tr>\n",
       "      <th>9</th>\n",
       "      <td>Bed Sheets</td>\n",
       "      <td>325151.0</td>\n",
       "    </tr>\n",
       "  </tbody>\n",
       "</table>\n",
       "</div>"
      ],
      "text/plain": [
       "         Product     Sales\n",
       "0     T - Shirts  578336.0\n",
       "1    Titak watch  531468.0\n",
       "2  Running Shoes  522144.0\n",
       "3          Jeans  508376.0\n",
       "4   Formal Shoes  496503.0\n",
       "5         Shirts  457072.0\n",
       "6   Fossil Watch  370788.0\n",
       "7         Towels  351348.0\n",
       "8    Sofa Covers  332424.0\n",
       "9     Bed Sheets  325151.0"
      ]
     },
     "execution_count": 10,
     "metadata": {},
     "output_type": "execute_result"
    }
   ],
   "source": [
    "best_selling_products = df.groupby('Product')['Sales'].sum().nlargest(10).reset_index()\n",
    "best_selling_products"
   ]
  }
 ],
 "metadata": {
  "kernelspec": {
   "display_name": "Python 3",
   "language": "python",
   "name": "python3"
  },
  "language_info": {
   "codemirror_mode": {
    "name": "ipython",
    "version": 3
   },
   "file_extension": ".py",
   "mimetype": "text/x-python",
   "name": "python",
   "nbconvert_exporter": "python",
   "pygments_lexer": "ipython3",
   "version": "3.11.4"
  }
 },
 "nbformat": 4,
 "nbformat_minor": 2
}
